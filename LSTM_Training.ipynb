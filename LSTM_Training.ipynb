{
 "cells": [
  {
   "cell_type": "code",
   "execution_count": 1,
   "metadata": {
    "id": "kH4F0ntWFPm7"
   },
   "outputs": [],
   "source": [
    "import pandas as pd\n",
    "import numpy as np\n",
    "import seaborn as sns\n",
    "import matplotlib.pyplot as plt\n",
    "#from fbprophet import Prophet\n",
    "from sklearn.metrics import mean_squared_error, mean_absolute_error\n",
    "plt.style.use('fivethirtyeight')"
   ]
  },
  {
   "cell_type": "code",
   "execution_count": 2,
   "metadata": {
    "id": "z1v_4TrAFabY"
   },
   "outputs": [],
   "source": [
    "data = pd.read_csv('market_day_level.csv',parse_dates=['trans_date'])\n",
    "data = data.drop(['Unnamed: 0'],axis=1).rename(columns={'Unnamed: 0.1':'Weighted_Price'})"
   ]
  },
  {
   "cell_type": "code",
   "execution_count": 3,
   "metadata": {
    "id": "cnh85LFrFaeE"
   },
   "outputs": [],
   "source": [
    "data['trans_date'] = data['trans_date'].dt.tz_localize(None)\n",
    "data = data.groupby([pd.Grouper(key='trans_date', freq='D')]).first().reset_index()\n",
    "data = data.set_index('trans_date')\n"
   ]
  },
  {
   "cell_type": "code",
   "execution_count": 4,
   "metadata": {
    "id": "DVHuTw_jFajF"
   },
   "outputs": [],
   "source": [
    "split_date = '2020-01-01'\n",
    "data_train = data.loc[data.index <= split_date].copy()\n",
    "data_test = data.loc[data.index > split_date].copy()"
   ]
  },
  {
   "cell_type": "code",
   "execution_count": 29,
   "metadata": {},
   "outputs": [
    {
     "data": {
      "text/html": [
       "<div>\n",
       "<style scoped>\n",
       "    .dataframe tbody tr th:only-of-type {\n",
       "        vertical-align: middle;\n",
       "    }\n",
       "\n",
       "    .dataframe tbody tr th {\n",
       "        vertical-align: top;\n",
       "    }\n",
       "\n",
       "    .dataframe thead th {\n",
       "        text-align: right;\n",
       "    }\n",
       "</style>\n",
       "<table border=\"1\" class=\"dataframe\">\n",
       "  <thead>\n",
       "    <tr style=\"text-align: right;\">\n",
       "      <th></th>\n",
       "      <th>Weighted_Price</th>\n",
       "      <th>Open</th>\n",
       "      <th>High</th>\n",
       "      <th>Low</th>\n",
       "      <th>Close</th>\n",
       "      <th>Volume BTC</th>\n",
       "      <th>Volume USD</th>\n",
       "    </tr>\n",
       "    <tr>\n",
       "      <th>trans_date</th>\n",
       "      <th></th>\n",
       "      <th></th>\n",
       "      <th></th>\n",
       "      <th></th>\n",
       "      <th></th>\n",
       "      <th></th>\n",
       "      <th></th>\n",
       "    </tr>\n",
       "  </thead>\n",
       "  <tbody>\n",
       "    <tr>\n",
       "      <th>2017-01-01</th>\n",
       "      <td>719.5</td>\n",
       "      <td>977.253208</td>\n",
       "      <td>977.418333</td>\n",
       "      <td>977.095722</td>\n",
       "      <td>977.268465</td>\n",
       "      <td>6.313666</td>\n",
       "      <td>6215.613316</td>\n",
       "    </tr>\n",
       "    <tr>\n",
       "      <th>2017-01-02</th>\n",
       "      <td>2159.5</td>\n",
       "      <td>1012.263160</td>\n",
       "      <td>1012.541111</td>\n",
       "      <td>1011.959785</td>\n",
       "      <td>1012.273903</td>\n",
       "      <td>6.240900</td>\n",
       "      <td>6320.823541</td>\n",
       "    </tr>\n",
       "    <tr>\n",
       "      <th>2017-01-03</th>\n",
       "      <td>3599.5</td>\n",
       "      <td>1019.987431</td>\n",
       "      <td>1020.246257</td>\n",
       "      <td>1019.755146</td>\n",
       "      <td>1020.040472</td>\n",
       "      <td>6.866814</td>\n",
       "      <td>7006.929346</td>\n",
       "    </tr>\n",
       "    <tr>\n",
       "      <th>2017-01-04</th>\n",
       "      <td>5039.5</td>\n",
       "      <td>1076.552882</td>\n",
       "      <td>1077.291757</td>\n",
       "      <td>1075.523986</td>\n",
       "      <td>1076.553639</td>\n",
       "      <td>15.693348</td>\n",
       "      <td>17052.837734</td>\n",
       "    </tr>\n",
       "    <tr>\n",
       "      <th>2017-01-05</th>\n",
       "      <td>6479.5</td>\n",
       "      <td>1043.609160</td>\n",
       "      <td>1044.932715</td>\n",
       "      <td>1042.048319</td>\n",
       "      <td>1043.547951</td>\n",
       "      <td>25.459151</td>\n",
       "      <td>25625.674044</td>\n",
       "    </tr>\n",
       "    <tr>\n",
       "      <th>...</th>\n",
       "      <td>...</td>\n",
       "      <td>...</td>\n",
       "      <td>...</td>\n",
       "      <td>...</td>\n",
       "      <td>...</td>\n",
       "      <td>...</td>\n",
       "      <td>...</td>\n",
       "    </tr>\n",
       "    <tr>\n",
       "      <th>2019-12-28</th>\n",
       "      <td>1571759.5</td>\n",
       "      <td>7298.380646</td>\n",
       "      <td>7301.259604</td>\n",
       "      <td>7295.641701</td>\n",
       "      <td>7298.453410</td>\n",
       "      <td>1.118904</td>\n",
       "      <td>8165.736670</td>\n",
       "    </tr>\n",
       "    <tr>\n",
       "      <th>2019-12-29</th>\n",
       "      <td>1573199.5</td>\n",
       "      <td>7344.713694</td>\n",
       "      <td>7347.246958</td>\n",
       "      <td>7342.418618</td>\n",
       "      <td>7344.867285</td>\n",
       "      <td>1.836150</td>\n",
       "      <td>13587.135118</td>\n",
       "    </tr>\n",
       "    <tr>\n",
       "      <th>2019-12-30</th>\n",
       "      <td>1574639.5</td>\n",
       "      <td>7297.675146</td>\n",
       "      <td>7300.186924</td>\n",
       "      <td>7295.122361</td>\n",
       "      <td>7297.834056</td>\n",
       "      <td>2.591312</td>\n",
       "      <td>18867.496874</td>\n",
       "    </tr>\n",
       "    <tr>\n",
       "      <th>2019-12-31</th>\n",
       "      <td>1576079.5</td>\n",
       "      <td>7198.664042</td>\n",
       "      <td>7201.307257</td>\n",
       "      <td>7196.060521</td>\n",
       "      <td>7198.746319</td>\n",
       "      <td>1.838362</td>\n",
       "      <td>13226.547681</td>\n",
       "    </tr>\n",
       "    <tr>\n",
       "      <th>2020-01-01</th>\n",
       "      <td>1577519.5</td>\n",
       "      <td>7195.514431</td>\n",
       "      <td>7197.818507</td>\n",
       "      <td>7193.475236</td>\n",
       "      <td>7195.445715</td>\n",
       "      <td>0.800135</td>\n",
       "      <td>5756.933620</td>\n",
       "    </tr>\n",
       "  </tbody>\n",
       "</table>\n",
       "<p>1096 rows × 7 columns</p>\n",
       "</div>"
      ],
      "text/plain": [
       "            Weighted_Price         Open         High          Low  \\\n",
       "trans_date                                                          \n",
       "2017-01-01           719.5   977.253208   977.418333   977.095722   \n",
       "2017-01-02          2159.5  1012.263160  1012.541111  1011.959785   \n",
       "2017-01-03          3599.5  1019.987431  1020.246257  1019.755146   \n",
       "2017-01-04          5039.5  1076.552882  1077.291757  1075.523986   \n",
       "2017-01-05          6479.5  1043.609160  1044.932715  1042.048319   \n",
       "...                    ...          ...          ...          ...   \n",
       "2019-12-28       1571759.5  7298.380646  7301.259604  7295.641701   \n",
       "2019-12-29       1573199.5  7344.713694  7347.246958  7342.418618   \n",
       "2019-12-30       1574639.5  7297.675146  7300.186924  7295.122361   \n",
       "2019-12-31       1576079.5  7198.664042  7201.307257  7196.060521   \n",
       "2020-01-01       1577519.5  7195.514431  7197.818507  7193.475236   \n",
       "\n",
       "                  Close  Volume BTC    Volume USD  \n",
       "trans_date                                         \n",
       "2017-01-01   977.268465    6.313666   6215.613316  \n",
       "2017-01-02  1012.273903    6.240900   6320.823541  \n",
       "2017-01-03  1020.040472    6.866814   7006.929346  \n",
       "2017-01-04  1076.553639   15.693348  17052.837734  \n",
       "2017-01-05  1043.547951   25.459151  25625.674044  \n",
       "...                 ...         ...           ...  \n",
       "2019-12-28  7298.453410    1.118904   8165.736670  \n",
       "2019-12-29  7344.867285    1.836150  13587.135118  \n",
       "2019-12-30  7297.834056    2.591312  18867.496874  \n",
       "2019-12-31  7198.746319    1.838362  13226.547681  \n",
       "2020-01-01  7195.445715    0.800135   5756.933620  \n",
       "\n",
       "[1096 rows x 7 columns]"
      ]
     },
     "execution_count": 29,
     "metadata": {},
     "output_type": "execute_result"
    }
   ],
   "source": [
    "data_train"
   ]
  },
  {
   "cell_type": "code",
   "execution_count": 5,
   "metadata": {
    "colab": {
     "base_uri": "https://localhost:8080/"
    },
    "id": "AF7TxA66MaAZ",
    "outputId": "b607dca2-05bb-4863-f2bb-238f4f1cfadc"
   },
   "outputs": [
    {
     "name": "stdout",
     "output_type": "stream",
     "text": [
      "<class 'pandas.core.frame.DataFrame'>\n",
      "DatetimeIndex: 1540 entries, 2017-01-01 to 2021-03-20\n",
      "Data columns (total 7 columns):\n",
      " #   Column          Non-Null Count  Dtype  \n",
      "---  ------          --------------  -----  \n",
      " 0   Weighted_Price  1540 non-null   float64\n",
      " 1   Open            1540 non-null   float64\n",
      " 2   High            1540 non-null   float64\n",
      " 3   Low             1540 non-null   float64\n",
      " 4   Close           1540 non-null   float64\n",
      " 5   Volume BTC      1540 non-null   float64\n",
      " 6   Volume USD      1540 non-null   float64\n",
      "dtypes: float64(7)\n",
      "memory usage: 96.2 KB\n"
     ]
    }
   ],
   "source": [
    "data.info()"
   ]
  },
  {
   "cell_type": "code",
   "execution_count": 6,
   "metadata": {
    "id": "r2P1CKZdPLKL"
   },
   "outputs": [],
   "source": [
    "from sklearn.preprocessing import MinMaxScaler\n",
    "sc = MinMaxScaler(feature_range = (0,1))\n",
    "\n",
    "def bit_pre_process(raw_data , seq_len, column = 1):\n",
    "  \n",
    "  #Select the feature/column \n",
    "  data = raw_data.iloc[:, column].values\n",
    "  data = data.reshape(-1, 1)\n",
    "  \n",
    "  #Feature Scaling\n",
    "  data = sc.fit_transform(data)\n",
    "  \n",
    "  #Making sequences\n",
    "  \n",
    "  X = []\n",
    "  y = []\n",
    "\n",
    "  for i in range(seq_len, len(data)):\n",
    "      X.append(data[i-seq_len:i, 0])\n",
    "      y.append(data[i, 0])\n",
    "  X, y = np.array(X), np.array(y)\n",
    "\n",
    "  # Reshaping\n",
    "  X = np.reshape(X, (X.shape[0], X.shape[1], 1))\n",
    "  \n",
    "  return X, y"
   ]
  },
  {
   "cell_type": "code",
   "execution_count": 7,
   "metadata": {
    "id": "TKGlINvOPLNF"
   },
   "outputs": [],
   "source": [
    "#Setting the sequence length (Try different values)\n",
    "sequence_length = 60\n",
    "\n",
    "#Choosing the idex of the Close column\n",
    "comumn_index= 4\n",
    "\n",
    "#Preprocessing the training set\n",
    "X_train, y_train = bit_pre_process(data_train , sequence_length, comumn_index)"
   ]
  },
  {
   "cell_type": "code",
   "execution_count": 26,
   "metadata": {
    "colab": {
     "base_uri": "https://localhost:8080/"
    },
    "id": "wzZ62FNgPLP5",
    "outputId": "563d2f28-fe30-4e33-ccc3-d55a615c6b64"
   },
   "outputs": [
    {
     "data": {
      "text/plain": [
       "(1036, 60, 1)"
      ]
     },
     "execution_count": 26,
     "metadata": {},
     "output_type": "execute_result"
    }
   ],
   "source": [
    "X_train.shape"
   ]
  },
  {
   "cell_type": "code",
   "execution_count": 9,
   "metadata": {
    "colab": {
     "base_uri": "https://localhost:8080/"
    },
    "id": "gwrJI0H9PLRf",
    "outputId": "213546de-2296-4da9-d6a9-3404366597d9"
   },
   "outputs": [
    {
     "data": {
      "text/plain": [
       "(1036,)"
      ]
     },
     "execution_count": 9,
     "metadata": {},
     "output_type": "execute_result"
    }
   ],
   "source": [
    "y_train.shape"
   ]
  },
  {
   "cell_type": "code",
   "execution_count": 10,
   "metadata": {
    "id": "L4Y9SzRQPLUh"
   },
   "outputs": [],
   "source": [
    "#Importing the Keras libraries and packages\n",
    "from keras.models import Sequential\n",
    "from keras.layers import Dense\n",
    "from keras.layers import LSTM\n",
    "from keras.layers import Dropout\n",
    "\n",
    "#Initialising the RNN\n",
    "regressor = Sequential()\n",
    "\n",
    "#Adding the first LSTM layer and some Dropout regularisation\n",
    "regressor.add(LSTM(units = 50, return_sequences = True, input_shape = (X_train.shape[1], 1)))\n",
    "regressor.add(Dropout(0.2))\n",
    "\n",
    "#Adding a second LSTM layer and some Dropout regularisation\n",
    "regressor.add(LSTM(units = 50, return_sequences = True))\n",
    "regressor.add(Dropout(0.2))\n",
    "\n",
    "#Adding a third LSTM layer and some Dropout regularisation\n",
    "regressor.add(LSTM(units = 50, return_sequences = True))\n",
    "regressor.add(Dropout(0.2))\n",
    "\n",
    "#Adding a fourth LSTM layer and some Dropout regularisation\n",
    "regressor.add(LSTM(units = 50))\n",
    "regressor.add(Dropout(0.2))\n",
    "\n",
    "#Adding the output layer\n",
    "regressor.add(Dense(units = 1))"
   ]
  },
  {
   "cell_type": "code",
   "execution_count": 11,
   "metadata": {
    "id": "7z9-fnkLPLW3"
   },
   "outputs": [],
   "source": [
    "regressor.compile(optimizer = 'adam', loss = 'mean_squared_error', metrics = ['mse', 'mae', 'mape'])"
   ]
  },
  {
   "cell_type": "code",
   "execution_count": 12,
   "metadata": {
    "colab": {
     "base_uri": "https://localhost:8080/"
    },
    "id": "A4MWJgqLPLZ7",
    "outputId": "665dfd39-252d-47e5-9e35-749081fa3761"
   },
   "outputs": [
    {
     "name": "stdout",
     "output_type": "stream",
     "text": [
      "Epoch 1/50\n",
      "21/21 [==============================] - 7s 85ms/step - loss: 0.0550 - mse: 0.0550 - mae: 0.1772 - mape: 82.2367\n",
      "Epoch 2/50\n",
      "21/21 [==============================] - 2s 79ms/step - loss: 0.0093 - mse: 0.0093 - mae: 0.0747 - mape: 56.6477\n",
      "Epoch 3/50\n",
      "21/21 [==============================] - 2s 77ms/step - loss: 0.0067 - mse: 0.0067 - mae: 0.0532 - mape: 20.1293\n",
      "Epoch 4/50\n",
      "21/21 [==============================] - 2s 76ms/step - loss: 0.0063 - mse: 0.0063 - mae: 0.0535 - mape: 25.3154\n",
      "Epoch 5/50\n",
      "21/21 [==============================] - 2s 85ms/step - loss: 0.0064 - mse: 0.0064 - mae: 0.0509 - mape: 21.0614\n",
      "Epoch 6/50\n",
      "21/21 [==============================] - 2s 88ms/step - loss: 0.0057 - mse: 0.0057 - mae: 0.0479 - mape: 18.0134\n",
      "Epoch 7/50\n",
      "21/21 [==============================] - 2s 87ms/step - loss: 0.0049 - mse: 0.0049 - mae: 0.0476 - mape: 21.2249\n",
      "Epoch 8/50\n",
      "21/21 [==============================] - 2s 87ms/step - loss: 0.0046 - mse: 0.0046 - mae: 0.0444 - mape: 16.9591\n",
      "Epoch 9/50\n",
      "21/21 [==============================] - 2s 87ms/step - loss: 0.0039 - mse: 0.0039 - mae: 0.0418 - mape: 16.5812\n",
      "Epoch 10/50\n",
      "21/21 [==============================] - 2s 93ms/step - loss: 0.0037 - mse: 0.0037 - mae: 0.0419 - mape: 15.9848\n",
      "Epoch 11/50\n",
      "21/21 [==============================] - 2s 88ms/step - loss: 0.0037 - mse: 0.0037 - mae: 0.0423 - mape: 16.7052\n",
      "Epoch 12/50\n",
      "21/21 [==============================] - 2s 88ms/step - loss: 0.0038 - mse: 0.0038 - mae: 0.0418 - mape: 16.2214\n",
      "Epoch 13/50\n",
      "21/21 [==============================] - 2s 89ms/step - loss: 0.0039 - mse: 0.0039 - mae: 0.0422 - mape: 17.2637\n",
      "Epoch 14/50\n",
      "21/21 [==============================] - 2s 89ms/step - loss: 0.0028 - mse: 0.0028 - mae: 0.0364 - mape: 15.4183\n",
      "Epoch 15/50\n",
      "21/21 [==============================] - 2s 87ms/step - loss: 0.0029 - mse: 0.0029 - mae: 0.0359 - mape: 13.3790\n",
      "Epoch 16/50\n",
      "21/21 [==============================] - 2s 88ms/step - loss: 0.0030 - mse: 0.0030 - mae: 0.0374 - mape: 16.4755\n",
      "Epoch 17/50\n",
      "21/21 [==============================] - 2s 82ms/step - loss: 0.0031 - mse: 0.0031 - mae: 0.0376 - mape: 13.7751\n",
      "Epoch 18/50\n",
      "21/21 [==============================] - 2s 83ms/step - loss: 0.0023 - mse: 0.0023 - mae: 0.0344 - mape: 14.1367\n",
      "Epoch 19/50\n",
      "21/21 [==============================] - 2s 89ms/step - loss: 0.0032 - mse: 0.0032 - mae: 0.0386 - mape: 17.2077\n",
      "Epoch 20/50\n",
      "21/21 [==============================] - 2s 83ms/step - loss: 0.0027 - mse: 0.0027 - mae: 0.0360 - mape: 14.6832\n",
      "Epoch 21/50\n",
      "21/21 [==============================] - 2s 83ms/step - loss: 0.0032 - mse: 0.0032 - mae: 0.0394 - mape: 16.9248\n",
      "Epoch 22/50\n",
      "21/21 [==============================] - 2s 84ms/step - loss: 0.0026 - mse: 0.0026 - mae: 0.0350 - mape: 14.8856\n",
      "Epoch 23/50\n",
      "21/21 [==============================] - 2s 83ms/step - loss: 0.0030 - mse: 0.0030 - mae: 0.0372 - mape: 13.5202\n",
      "Epoch 24/50\n",
      "21/21 [==============================] - 2s 85ms/step - loss: 0.0025 - mse: 0.0025 - mae: 0.0345 - mape: 13.3922\n",
      "Epoch 25/50\n",
      "21/21 [==============================] - 2s 84ms/step - loss: 0.0027 - mse: 0.0027 - mae: 0.0362 - mape: 14.0073\n",
      "Epoch 26/50\n",
      "21/21 [==============================] - 2s 85ms/step - loss: 0.0021 - mse: 0.0021 - mae: 0.0318 - mape: 17.0363\n",
      "Epoch 27/50\n",
      "21/21 [==============================] - 2s 85ms/step - loss: 0.0027 - mse: 0.0027 - mae: 0.0352 - mape: 14.4911\n",
      "Epoch 28/50\n",
      "21/21 [==============================] - 2s 92ms/step - loss: 0.0028 - mse: 0.0028 - mae: 0.0370 - mape: 18.1270\n",
      "Epoch 29/50\n",
      "21/21 [==============================] - 2s 85ms/step - loss: 0.0021 - mse: 0.0021 - mae: 0.0304 - mape: 14.9760\n",
      "Epoch 30/50\n",
      "21/21 [==============================] - 2s 88ms/step - loss: 0.0019 - mse: 0.0019 - mae: 0.0302 - mape: 11.5361\n",
      "Epoch 31/50\n",
      "21/21 [==============================] - 2s 86ms/step - loss: 0.0021 - mse: 0.0021 - mae: 0.0322 - mape: 15.0601\n",
      "Epoch 32/50\n",
      "21/21 [==============================] - 2s 86ms/step - loss: 0.0023 - mse: 0.0023 - mae: 0.0331 - mape: 13.6537\n",
      "Epoch 33/50\n",
      "21/21 [==============================] - 2s 84ms/step - loss: 0.0020 - mse: 0.0020 - mae: 0.0306 - mape: 12.7175\n",
      "Epoch 34/50\n",
      "21/21 [==============================] - 2s 86ms/step - loss: 0.0022 - mse: 0.0022 - mae: 0.0318 - mape: 13.6366\n",
      "Epoch 35/50\n",
      "21/21 [==============================] - 2s 86ms/step - loss: 0.0021 - mse: 0.0021 - mae: 0.0315 - mape: 13.7871\n",
      "Epoch 36/50\n",
      "21/21 [==============================] - 2s 86ms/step - loss: 0.0023 - mse: 0.0023 - mae: 0.0342 - mape: 12.9728\n",
      "Epoch 37/50\n",
      "21/21 [==============================] - 2s 91ms/step - loss: 0.0018 - mse: 0.0018 - mae: 0.0316 - mape: 17.9093\n",
      "Epoch 38/50\n",
      "21/21 [==============================] - 2s 86ms/step - loss: 0.0024 - mse: 0.0024 - mae: 0.0346 - mape: 14.0505\n",
      "Epoch 39/50\n",
      "21/21 [==============================] - 2s 84ms/step - loss: 0.0022 - mse: 0.0022 - mae: 0.0312 - mape: 12.5093\n",
      "Epoch 40/50\n",
      "21/21 [==============================] - 2s 82ms/step - loss: 0.0019 - mse: 0.0019 - mae: 0.0298 - mape: 12.1760\n",
      "Epoch 41/50\n",
      "21/21 [==============================] - 2s 82ms/step - loss: 0.0021 - mse: 0.0021 - mae: 0.0326 - mape: 13.5745\n",
      "Epoch 42/50\n",
      "21/21 [==============================] - 2s 81ms/step - loss: 0.0020 - mse: 0.0020 - mae: 0.0315 - mape: 13.4173\n",
      "Epoch 43/50\n",
      "21/21 [==============================] - 2s 81ms/step - loss: 0.0020 - mse: 0.0020 - mae: 0.0303 - mape: 13.4540\n",
      "Epoch 44/50\n",
      "21/21 [==============================] - 2s 81ms/step - loss: 0.0020 - mse: 0.0020 - mae: 0.0299 - mape: 12.9450\n",
      "Epoch 45/50\n",
      "21/21 [==============================] - 2s 81ms/step - loss: 0.0018 - mse: 0.0018 - mae: 0.0295 - mape: 12.3475\n",
      "Epoch 46/50\n",
      "21/21 [==============================] - 2s 88ms/step - loss: 0.0022 - mse: 0.0022 - mae: 0.0301 - mape: 12.2611\n",
      "Epoch 47/50\n",
      "21/21 [==============================] - 2s 81ms/step - loss: 0.0015 - mse: 0.0015 - mae: 0.0275 - mape: 12.8867\n",
      "Epoch 48/50\n",
      "21/21 [==============================] - 2s 81ms/step - loss: 0.0017 - mse: 0.0017 - mae: 0.0293 - mape: 13.5490\n",
      "Epoch 49/50\n",
      "21/21 [==============================] - 2s 81ms/step - loss: 0.0017 - mse: 0.0017 - mae: 0.0293 - mape: 12.7960\n",
      "Epoch 50/50\n",
      "21/21 [==============================] - 2s 81ms/step - loss: 0.0018 - mse: 0.0018 - mae: 0.0287 - mape: 12.7403\n"
     ]
    },
    {
     "data": {
      "text/plain": [
       "<tensorflow.python.keras.callbacks.History at 0x26290c16c08>"
      ]
     },
     "execution_count": 12,
     "metadata": {},
     "output_type": "execute_result"
    }
   ],
   "source": [
    "regressor.fit(X_train, y_train, epochs = 50, batch_size = 50)"
   ]
  },
  {
   "cell_type": "code",
   "execution_count": 13,
   "metadata": {
    "id": "7C9H0-S0PLdV"
   },
   "outputs": [],
   "source": [
    "#Adding the previous 60 days cosing price to the test data\n",
    "test_set = pd.concat((data_train.tail(sequence_length), data_test), axis = 0)"
   ]
  },
  {
   "cell_type": "code",
   "execution_count": 14,
   "metadata": {
    "id": "tsjWvGx9MaC1"
   },
   "outputs": [],
   "source": [
    "x_test, y_true = bit_pre_process(test_set , sequence_length, comumn_index)"
   ]
  },
  {
   "cell_type": "code",
   "execution_count": 15,
   "metadata": {
    "colab": {
     "base_uri": "https://localhost:8080/"
    },
    "id": "q27TXNa4MaEv",
    "outputId": "9badfe03-f822-4bc1-f98a-a2f0aee1a779"
   },
   "outputs": [
    {
     "data": {
      "text/plain": [
       "((444, 60, 1), (444,))"
      ]
     },
     "execution_count": 15,
     "metadata": {},
     "output_type": "execute_result"
    }
   ],
   "source": [
    "x_test.shape,y_true.shape"
   ]
  },
  {
   "cell_type": "code",
   "execution_count": 28,
   "metadata": {},
   "outputs": [
    {
     "data": {
      "text/html": [
       "<div>\n",
       "<style scoped>\n",
       "    .dataframe tbody tr th:only-of-type {\n",
       "        vertical-align: middle;\n",
       "    }\n",
       "\n",
       "    .dataframe tbody tr th {\n",
       "        vertical-align: top;\n",
       "    }\n",
       "\n",
       "    .dataframe thead th {\n",
       "        text-align: right;\n",
       "    }\n",
       "</style>\n",
       "<table border=\"1\" class=\"dataframe\">\n",
       "  <thead>\n",
       "    <tr style=\"text-align: right;\">\n",
       "      <th></th>\n",
       "      <th>Weighted_Price</th>\n",
       "      <th>Open</th>\n",
       "      <th>High</th>\n",
       "      <th>Low</th>\n",
       "      <th>Close</th>\n",
       "      <th>Volume BTC</th>\n",
       "      <th>Volume USD</th>\n",
       "    </tr>\n",
       "    <tr>\n",
       "      <th>trans_date</th>\n",
       "      <th></th>\n",
       "      <th></th>\n",
       "      <th></th>\n",
       "      <th></th>\n",
       "      <th></th>\n",
       "      <th></th>\n",
       "      <th></th>\n",
       "    </tr>\n",
       "  </thead>\n",
       "  <tbody>\n",
       "    <tr>\n",
       "      <th>2019-11-03</th>\n",
       "      <td>1492559.5</td>\n",
       "      <td>9216.973229</td>\n",
       "      <td>9222.163139</td>\n",
       "      <td>9214.026743</td>\n",
       "      <td>9217.951722</td>\n",
       "      <td>1.771343</td>\n",
       "      <td>16262.558857</td>\n",
       "    </tr>\n",
       "    <tr>\n",
       "      <th>2019-11-04</th>\n",
       "      <td>1493999.5</td>\n",
       "      <td>9254.543611</td>\n",
       "      <td>9260.796958</td>\n",
       "      <td>9250.866951</td>\n",
       "      <td>9255.588271</td>\n",
       "      <td>3.451331</td>\n",
       "      <td>32234.006093</td>\n",
       "    </tr>\n",
       "    <tr>\n",
       "      <th>2019-11-05</th>\n",
       "      <td>1495439.5</td>\n",
       "      <td>9342.235674</td>\n",
       "      <td>9348.219507</td>\n",
       "      <td>9338.224764</td>\n",
       "      <td>9342.998597</td>\n",
       "      <td>3.458063</td>\n",
       "      <td>32256.611319</td>\n",
       "    </tr>\n",
       "    <tr>\n",
       "      <th>2019-11-06</th>\n",
       "      <td>1496879.5</td>\n",
       "      <td>9335.322576</td>\n",
       "      <td>9339.182715</td>\n",
       "      <td>9332.254111</td>\n",
       "      <td>9335.835583</td>\n",
       "      <td>3.262743</td>\n",
       "      <td>30472.001756</td>\n",
       "    </tr>\n",
       "    <tr>\n",
       "      <th>2019-11-07</th>\n",
       "      <td>1498319.5</td>\n",
       "      <td>9237.890306</td>\n",
       "      <td>9241.245632</td>\n",
       "      <td>9234.401576</td>\n",
       "      <td>9238.378458</td>\n",
       "      <td>2.793858</td>\n",
       "      <td>25756.308382</td>\n",
       "    </tr>\n",
       "    <tr>\n",
       "      <th>...</th>\n",
       "      <td>...</td>\n",
       "      <td>...</td>\n",
       "      <td>...</td>\n",
       "      <td>...</td>\n",
       "      <td>...</td>\n",
       "      <td>...</td>\n",
       "      <td>...</td>\n",
       "    </tr>\n",
       "    <tr>\n",
       "      <th>2021-03-16</th>\n",
       "      <td>2209680.5</td>\n",
       "      <td>55342.874889</td>\n",
       "      <td>55388.028125</td>\n",
       "      <td>55297.895611</td>\n",
       "      <td>55343.697083</td>\n",
       "      <td>5.370296</td>\n",
       "      <td>295599.768827</td>\n",
       "    </tr>\n",
       "    <tr>\n",
       "      <th>2021-03-17</th>\n",
       "      <td>2211120.5</td>\n",
       "      <td>56158.036813</td>\n",
       "      <td>56200.458931</td>\n",
       "      <td>56118.449000</td>\n",
       "      <td>56160.989236</td>\n",
       "      <td>4.055609</td>\n",
       "      <td>228489.573523</td>\n",
       "    </tr>\n",
       "    <tr>\n",
       "      <th>2021-03-18</th>\n",
       "      <td>2212560.5</td>\n",
       "      <td>58475.809778</td>\n",
       "      <td>58511.486535</td>\n",
       "      <td>58437.665014</td>\n",
       "      <td>58476.000361</td>\n",
       "      <td>3.830878</td>\n",
       "      <td>224455.585754</td>\n",
       "    </tr>\n",
       "    <tr>\n",
       "      <th>2021-03-19</th>\n",
       "      <td>2214000.5</td>\n",
       "      <td>58285.026007</td>\n",
       "      <td>58319.591563</td>\n",
       "      <td>58251.435347</td>\n",
       "      <td>58286.280590</td>\n",
       "      <td>2.446863</td>\n",
       "      <td>142674.673298</td>\n",
       "    </tr>\n",
       "    <tr>\n",
       "      <th>2021-03-20</th>\n",
       "      <td>2214909.0</td>\n",
       "      <td>58434.810663</td>\n",
       "      <td>58459.973634</td>\n",
       "      <td>58415.101459</td>\n",
       "      <td>58439.921512</td>\n",
       "      <td>1.382558</td>\n",
       "      <td>80685.633946</td>\n",
       "    </tr>\n",
       "  </tbody>\n",
       "</table>\n",
       "<p>504 rows × 7 columns</p>\n",
       "</div>"
      ],
      "text/plain": [
       "            Weighted_Price          Open          High           Low  \\\n",
       "trans_date                                                             \n",
       "2019-11-03       1492559.5   9216.973229   9222.163139   9214.026743   \n",
       "2019-11-04       1493999.5   9254.543611   9260.796958   9250.866951   \n",
       "2019-11-05       1495439.5   9342.235674   9348.219507   9338.224764   \n",
       "2019-11-06       1496879.5   9335.322576   9339.182715   9332.254111   \n",
       "2019-11-07       1498319.5   9237.890306   9241.245632   9234.401576   \n",
       "...                    ...           ...           ...           ...   \n",
       "2021-03-16       2209680.5  55342.874889  55388.028125  55297.895611   \n",
       "2021-03-17       2211120.5  56158.036813  56200.458931  56118.449000   \n",
       "2021-03-18       2212560.5  58475.809778  58511.486535  58437.665014   \n",
       "2021-03-19       2214000.5  58285.026007  58319.591563  58251.435347   \n",
       "2021-03-20       2214909.0  58434.810663  58459.973634  58415.101459   \n",
       "\n",
       "                   Close  Volume BTC     Volume USD  \n",
       "trans_date                                           \n",
       "2019-11-03   9217.951722    1.771343   16262.558857  \n",
       "2019-11-04   9255.588271    3.451331   32234.006093  \n",
       "2019-11-05   9342.998597    3.458063   32256.611319  \n",
       "2019-11-06   9335.835583    3.262743   30472.001756  \n",
       "2019-11-07   9238.378458    2.793858   25756.308382  \n",
       "...                  ...         ...            ...  \n",
       "2021-03-16  55343.697083    5.370296  295599.768827  \n",
       "2021-03-17  56160.989236    4.055609  228489.573523  \n",
       "2021-03-18  58476.000361    3.830878  224455.585754  \n",
       "2021-03-19  58286.280590    2.446863  142674.673298  \n",
       "2021-03-20  58439.921512    1.382558   80685.633946  \n",
       "\n",
       "[504 rows x 7 columns]"
      ]
     },
     "execution_count": 28,
     "metadata": {},
     "output_type": "execute_result"
    }
   ],
   "source": [
    "test_set"
   ]
  },
  {
   "cell_type": "code",
   "execution_count": 16,
   "metadata": {
    "id": "t5dVCLOcMaG_"
   },
   "outputs": [],
   "source": [
    "#Predicting the closing price of the test data\n",
    "predicted_stock_price = regressor.predict(x_test)"
   ]
  },
  {
   "cell_type": "code",
   "execution_count": 17,
   "metadata": {
    "id": "-VEA_K2dMaJ7"
   },
   "outputs": [],
   "source": [
    "#Inversing the scaled values \n",
    "predicted_stock_price = sc.inverse_transform(predicted_stock_price)\n"
   ]
  },
  {
   "cell_type": "code",
   "execution_count": 18,
   "metadata": {
    "id": "UKyRWrZ4SBpQ"
   },
   "outputs": [],
   "source": [
    "#Inversing the scaled actual prices from test data\n",
    "real_stock_price = sc.inverse_transform(y_true.reshape(-1, 1))"
   ]
  },
  {
   "cell_type": "code",
   "execution_count": 19,
   "metadata": {
    "id": "-iM8CGpXSBsi"
   },
   "outputs": [],
   "source": [
    "def plot_predictions(actual_price, predicted_price, title, x_label, y_label):\n",
    "  plt.plot(actual_price, color = 'green', label = 'Actual Stock Price')\n",
    "  plt.plot(predicted_price, color = 'red', label = 'Predicted Stock Price')\n",
    "  plt.title(title)\n",
    "  plt.xlabel('Time')\n",
    "  plt.ylabel('Bitcoin Stock Price')\n",
    "  plt.legend()\n",
    "  plt.show()"
   ]
  },
  {
   "cell_type": "code",
   "execution_count": 20,
   "metadata": {
    "colab": {
     "base_uri": "https://localhost:8080/",
     "height": 325
    },
    "id": "JzushsJaSBxi",
    "outputId": "fd3723aa-2b6f-4dd2-99b5-8149f55bef78"
   },
   "outputs": [
    {
     "data": {
      "image/png": "[encoded data removed]",
      "text/plain": [
       "<Figure size 432x288 with 1 Axes>"
      ]
     },
     "metadata": {},
     "output_type": "display_data"
    }
   ],
   "source": [
    "plot_predictions(real_stock_price, predicted_stock_price, \"Bitcoin Closing Price Prediction\", \"Time\", \"Closing Price\")"
   ]
  },
  {
   "cell_type": "code",
   "execution_count": 21,
   "metadata": {
    "id": "Hul8n0AISB0P"
   },
   "outputs": [],
   "source": [
    "data_test['Predicted_Close'] = predicted_stock_price"
   ]
  },
  {
   "cell_type": "code",
   "execution_count": 22,
   "metadata": {
    "id": "8SRyVlzpSB2r"
   },
   "outputs": [],
   "source": [
    "compare = data_test[['Close','Predicted_Close' ]]"
   ]
  },
  {
   "cell_type": "code",
   "execution_count": 24,
   "metadata": {
    "colab": {
     "base_uri": "https://localhost:8080/",
     "height": 235
    },
    "id": "SsRLUDm3SB5W",
    "outputId": "aa5948e7-601e-43d5-f184-a3b4e853f469"
   },
   "outputs": [
    {
     "data": {
      "text/html": [
       "<div>\n",
       "<style scoped>\n",
       "    .dataframe tbody tr th:only-of-type {\n",
       "        vertical-align: middle;\n",
       "    }\n",
       "\n",
       "    .dataframe tbody tr th {\n",
       "        vertical-align: top;\n",
       "    }\n",
       "\n",
       "    .dataframe thead th {\n",
       "        text-align: right;\n",
       "    }\n",
       "</style>\n",
       "<table border=\"1\" class=\"dataframe\">\n",
       "  <thead>\n",
       "    <tr style=\"text-align: right;\">\n",
       "      <th></th>\n",
       "      <th>Close</th>\n",
       "      <th>Predicted_Close</th>\n",
       "    </tr>\n",
       "    <tr>\n",
       "      <th>trans_date</th>\n",
       "      <th></th>\n",
       "      <th></th>\n",
       "    </tr>\n",
       "  </thead>\n",
       "  <tbody>\n",
       "    <tr>\n",
       "      <th>2020-01-02</th>\n",
       "      <td>7072.435687</td>\n",
       "      <td>7805.529297</td>\n",
       "    </tr>\n",
       "    <tr>\n",
       "      <th>2020-01-03</th>\n",
       "      <td>7217.607403</td>\n",
       "      <td>7789.124512</td>\n",
       "    </tr>\n",
       "    <tr>\n",
       "      <th>2020-01-04</th>\n",
       "      <td>7321.510688</td>\n",
       "      <td>7766.354492</td>\n",
       "    </tr>\n",
       "    <tr>\n",
       "      <th>2020-01-05</th>\n",
       "      <td>7429.768535</td>\n",
       "      <td>7746.637695</td>\n",
       "    </tr>\n",
       "    <tr>\n",
       "      <th>2020-01-06</th>\n",
       "      <td>7533.281097</td>\n",
       "      <td>7740.130371</td>\n",
       "    </tr>\n",
       "    <tr>\n",
       "      <th>...</th>\n",
       "      <td>...</td>\n",
       "      <td>...</td>\n",
       "    </tr>\n",
       "    <tr>\n",
       "      <th>2021-03-16</th>\n",
       "      <td>55343.697083</td>\n",
       "      <td>54593.078125</td>\n",
       "    </tr>\n",
       "    <tr>\n",
       "      <th>2021-03-17</th>\n",
       "      <td>56160.989236</td>\n",
       "      <td>53617.867188</td>\n",
       "    </tr>\n",
       "    <tr>\n",
       "      <th>2021-03-18</th>\n",
       "      <td>58476.000361</td>\n",
       "      <td>52099.945312</td>\n",
       "    </tr>\n",
       "    <tr>\n",
       "      <th>2021-03-19</th>\n",
       "      <td>58286.280590</td>\n",
       "      <td>51084.132812</td>\n",
       "    </tr>\n",
       "    <tr>\n",
       "      <th>2021-03-20</th>\n",
       "      <td>58439.921512</td>\n",
       "      <td>50829.265625</td>\n",
       "    </tr>\n",
       "  </tbody>\n",
       "</table>\n",
       "<p>444 rows × 2 columns</p>\n",
       "</div>"
      ],
      "text/plain": [
       "                   Close  Predicted_Close\n",
       "trans_date                               \n",
       "2020-01-02   7072.435687      7805.529297\n",
       "2020-01-03   7217.607403      7789.124512\n",
       "2020-01-04   7321.510688      7766.354492\n",
       "2020-01-05   7429.768535      7746.637695\n",
       "2020-01-06   7533.281097      7740.130371\n",
       "...                  ...              ...\n",
       "2021-03-16  55343.697083     54593.078125\n",
       "2021-03-17  56160.989236     53617.867188\n",
       "2021-03-18  58476.000361     52099.945312\n",
       "2021-03-19  58286.280590     51084.132812\n",
       "2021-03-20  58439.921512     50829.265625\n",
       "\n",
       "[444 rows x 2 columns]"
      ]
     },
     "execution_count": 24,
     "metadata": {},
     "output_type": "execute_result"
    }
   ],
   "source": [
    "compare"
   ]
  },
  {
   "cell_type": "code",
   "execution_count": null,
   "metadata": {
    "id": "hdLqGGyfSB8F"
   },
   "outputs": [],
   "source": []
  },
  {
   "cell_type": "code",
   "execution_count": null,
   "metadata": {
    "id": "pjbLh4EDSCBo"
   },
   "outputs": [],
   "source": []
  }
 ],
 "metadata": {
  "colab": {
   "name": "Bitcoin_closing_price_prediction_Neural_Nets.ipynb",
   "provenance": []
  },
  "kernelspec": {
   "display_name": "Python 3",
   "language": "python",
   "name": "python3"
  },
  "language_info": {
   "codemirror_mode": {
    "name": "ipython",
    "version": 3
   },
   "file_extension": ".py",
   "mimetype": "text/x-python",
   "name": "python",
   "nbconvert_exporter": "python",
   "pygments_lexer": "ipython3",
   "version": "3.7.7"
  }
 },
 "nbformat": 4,
 "nbformat_minor": 1
}
